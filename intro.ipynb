{
 "cells": [
  {
   "cell_type": "markdown",
   "metadata": {
    "slideshow": {
     "slide_type": "slide"
    }
   },
   "source": [
    "# signac - PyData Ann Arbor MeetUp 2018\n",
    "\n",
    "Ann Arbor, MI, Aug 7th, 2018\n",
    "\n",
    "The signac framework supports researchers in managing project-related data with a well-defined indexable storage layout for data and metadata. This streamlines post-processing and analysis and makes data collectively accessible.\n",
    "\n",
    "Signac is open-source and freely available for Python versions 2.7.x and 3.4+.\n",
    "\n",
    " * Homepage: http://www.signac.io\n",
    " * Documentation: https://signac-docs.readthedocs.io\n",
    "\n",
    "\n",
    "You can reach me via email: csadorf@umich.edu!"
   ]
  },
  {
   "cell_type": "markdown",
   "metadata": {
    "slideshow": {
     "slide_type": "slide"
    }
   },
   "source": [
    "Here is an exemplary problem we typically encounter when managing **parameterized** data spaces on the file system.\n",
    "\n",
    "We run a series of (computational) experiments on a **binary mixture** and need to store related files on the file system.\n",
    "This might be a goood start:\n",
    "```\n",
    "concentration_A_0.25/\n",
    "concentration_A_0.50/\n",
    "concentration_A_0.75/\n",
    "```"
   ]
  },
  {
   "cell_type": "markdown",
   "metadata": {
    "slideshow": {
     "slide_type": "subslide"
    }
   },
   "source": [
    "Or this?\n",
    "```\n",
    "concentration_A/0.25/\n",
    "concentration_A/0.50/\n",
    "concentration_A/0.75/\n",
    "```"
   ]
  },
  {
   "attachments": {},
   "cell_type": "markdown",
   "metadata": {
    "slideshow": {
     "slide_type": "subslide"
    }
   },
   "source": [
    "Maybe a bit shorter?\n",
    "```\n",
    "conc_A/0.25\n",
    "conc_A/0.50\n",
    "conc_A/0.75\n",
    "```"
   ]
  },
  {
   "attachments": {},
   "cell_type": "markdown",
   "metadata": {
    "slideshow": {
     "slide_type": "subslide"
    }
   },
   "source": [
    "Even shorter?\n",
    "```\n",
    "conc_A/.25\n",
    "conc_A/.50\n",
    "conc_A/.75\n",
    "```\n",
    "But now all all of our data is *hidden*..."
   ]
  },
  {
   "cell_type": "markdown",
   "metadata": {
    "slideshow": {
     "slide_type": "subslide"
    }
   },
   "source": [
    "Better remove the *dot*.\n",
    "```\n",
    "conc_A/25\n",
    "conc_A/50\n",
    "conc_A/75\n",
    "```"
   ]
  },
  {
   "attachments": {},
   "cell_type": "markdown",
   "metadata": {
    "slideshow": {
     "slide_type": "subslide"
    }
   },
   "source": [
    "Turns out we need to vary the temperature:\n",
    "```\n",
    "conc_A/25/temp_08\n",
    "conc_A/25/temp_1\n",
    "conc_A/50\n",
    "conc_A/75\n",
    "```"
   ]
  },
  {
   "cell_type": "markdown",
   "metadata": {
    "slideshow": {
     "slide_type": "subslide"
    }
   },
   "source": [
    "Better keep things consistent:\n",
    "```\n",
    "conc_A/25/temp_08\n",
    "conc_A/25/temp_1\n",
    "conc_A/50/temp_08\n",
    "conc_A/75/temp_08\n",
    "```"
   ]
  },
  {
   "attachments": {},
   "cell_type": "markdown",
   "metadata": {
    "slideshow": {
     "slide_type": "subslide"
    }
   },
   "source": [
    "Maybe this is a better schema?\n",
    "```\n",
    "temp_08/conc_A/25\n",
    "temp_08/conc_A/50\n",
    "temp_08/conc_A/75\n",
    "temp_1/conc_A/25\n",
    "```"
   ]
  },
  {
   "cell_type": "markdown",
   "metadata": {
    "slideshow": {
     "slide_type": "subslide"
    }
   },
   "source": [
    "Actually, we need to bring in a component *C*:\n",
    "```\n",
    "temp_08/conc_A/25/conc_B/05\n",
    "temp_08/conc_A/50\n",
    "temp_08/conc_A/75\n",
    "temp_1/conc_A/25\n",
    "```"
   ]
  },
  {
   "cell_type": "markdown",
   "metadata": {
    "slideshow": {
     "slide_type": "slide"
    }
   },
   "source": [
    "The **signac** framework is named after the painter **Paul Signac**.\n",
    "\n",
    "![Paul Signac](images/paul_signac_pointillism.png)\n",
    "The technique of creating natural images out of many small painting dots serves as a metaphor for **signac**'s data model."
   ]
  },
  {
   "cell_type": "markdown",
   "metadata": {
    "slideshow": {
     "slide_type": "slide"
    }
   },
   "source": [
    "![Overview](images/overview_a.png)"
   ]
  },
  {
   "cell_type": "markdown",
   "metadata": {
    "slideshow": {
     "slide_type": "subslide"
    }
   },
   "source": [
    "![Overview](images/overview_b.png)"
   ]
  },
  {
   "cell_type": "markdown",
   "metadata": {
    "slideshow": {
     "slide_type": "slide"
    }
   },
   "source": [
    "![Acknowledgment](images/acknowledgment.png)"
   ]
  }
 ],
 "metadata": {
  "celltoolbar": "Slideshow",
  "kernelspec": {
   "display_name": "Python 3",
   "language": "python",
   "name": "python3"
  },
  "language_info": {
   "codemirror_mode": {
    "name": "ipython",
    "version": 3
   },
   "file_extension": ".py",
   "mimetype": "text/x-python",
   "name": "python",
   "nbconvert_exporter": "python",
   "pygments_lexer": "ipython3",
   "version": "3.6.5"
  }
 },
 "nbformat": 4,
 "nbformat_minor": 2
}
