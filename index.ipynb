{
 "cells": [
  {
   "cell_type": "markdown",
   "metadata": {},
   "source": [
    "# signac - PyData Ann Arbor MeetUp 2018\n",
    "\n",
    "\n",
    "This is a collection of Jupyter notebooks sued demonstrate how to use [signac](http://www.signac.io) at the PyData Ann Arbor MeetUp on August 7th 2018.\n",
    "\n",
    "The **signac** framework is a collection of Python packages, that are designed to automate computational investigations and manage the underlying data spaces. The framework is designed to be lightweight and easy to integrate with other tools.\n",
    "\n",
    "*Part 1* is a brief introduction to **signac**'s core functions, *Part 2* goes into more details, while *Part 3* demonstrates how to integrate **signac** with other (Python) tools, including [pandas](https://pandas.pydata.org/), [Sacred](https://github.com/IDSIA/sacred), and [datreant.core](datreant.org)."
   ]
  },
  {
   "cell_type": "markdown",
   "metadata": {},
   "source": [
    "# Table of Contents\n",
    "\n",
    "* [Part 1 - Introduction to signac](intro.ipynb)\n",
    "* [Part 2 - Demonstration with Projectile Project](projectile/animate-projectile.ipynb)\n",
    "* [Part 3 - The Python Ecosystem](integration/Integration.ipynb)"
   ]
  },
  {
   "cell_type": "code",
   "execution_count": null,
   "metadata": {},
   "outputs": [],
   "source": []
  }
 ],
 "metadata": {
  "kernelspec": {
   "display_name": "Python 3",
   "language": "python",
   "name": "python3"
  },
  "language_info": {
   "codemirror_mode": {
    "name": "ipython",
    "version": 3
   },
   "file_extension": ".py",
   "mimetype": "text/x-python",
   "name": "python",
   "nbconvert_exporter": "python",
   "pygments_lexer": "ipython3",
   "version": "3.6.5"
  },
  "toc": {
   "nav_menu": {},
   "number_sections": true,
   "sideBar": true,
   "skip_h1_title": false,
   "title_cell": "Table of Contents",
   "title_sidebar": "Contents",
   "toc_cell": false,
   "toc_position": {},
   "toc_section_display": true,
   "toc_window_display": false
  }
 },
 "nbformat": 4,
 "nbformat_minor": 2
}
